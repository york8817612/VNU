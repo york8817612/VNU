{
  "nbformat": 4,
  "nbformat_minor": 0,
  "metadata": {
    "colab": {
      "name": "hello-ai.ipynb",
      "provenance": [],
      "collapsed_sections": []
    },
    "kernelspec": {
      "name": "python3",
      "display_name": "Python 3"
    },
    "language_info": {
      "name": "python"
    }
  },
  "cells": [
    {
      "cell_type": "code",
      "metadata": {
        "colab": {
          "base_uri": "https://localhost:8080/"
        },
        "id": "BjcqKeaUgq1j",
        "outputId": "4f472d51-95c1-4ef2-954c-8852eaf6ff89"
      },
      "source": [
        "print(\"hello AI. I am MingLi. Nice to meet you\")"
      ],
      "execution_count": 2,
      "outputs": [
        {
          "output_type": "stream",
          "name": "stdout",
          "text": [
            "hello AI. I am MingLi. Nice to meet you\n"
          ]
        }
      ]
    },
    {
      "cell_type": "code",
      "metadata": {
        "colab": {
          "base_uri": "https://localhost:8080/"
        },
        "id": "0GByCoNYhNa-",
        "outputId": "825261ee-14ed-40cd-852e-08276b0935ad"
      },
      "source": [
        "print('Today is Sunday,2021.11.07')"
      ],
      "execution_count": 3,
      "outputs": [
        {
          "output_type": "stream",
          "name": "stdout",
          "text": [
            "Today is Sunday,2021.11.07\n"
          ]
        }
      ]
    },
    {
      "cell_type": "markdown",
      "metadata": {
        "id": "ZzEBxlHFhzCm"
      },
      "source": [
        "# 測試\n",
        "1. 文字1\n",
        "2. 文字2\n",
        "\n",
        "## 進度\n",
        "1. [ ] 1223\n",
        "2. [X] 223"
      ]
    }
  ]
}