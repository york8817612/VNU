{
  "nbformat": 4,
  "nbformat_minor": 0,
  "metadata": {
    "colab": {
      "name": "QuickPython1.ipynb",
      "provenance": []
    },
    "kernelspec": {
      "name": "python3",
      "display_name": "Python 3"
    },
    "language_info": {
      "name": "python"
    }
  },
  "cells": [
    {
      "cell_type": "markdown",
      "metadata": {
        "id": "U2Z6xPdSj0gq"
      },
      "source": [
        "#使用Google Colab的Python零基礎快速入門教程\n",
        "Prepared by Horace, Date: October, 2021\n",
        "* Colaboratory (簡稱為「Colab」) 可讓你在瀏覽器上撰寫及執行 Python. \n",
        "* Colab 筆記本的互動式環境，可讓你撰寫和執行程式碼\n",
        "## 介紹\n",
        "> Python 本身就是一種出色的通用編程語言，但在一些流行庫（例如: numpy、matplotlib）的幫助下，它成為了一個強大的科學計算環境。我們希望本節將作為Python 編程語言和人工智慧學習中的使用速成課程。\n",
        "## 在本教程中，我們將介紹：\n",
        "* Python必學: Basic data types (Containers, Lists, Dictionaries, Sets, Tuples), loops, flow control, Functions, Classes\n",
        "* 作圖模組 (Matplotlib): Plotting, Subplots, Images"
      ]
    },
    {
      "cell_type": "code",
      "metadata": {
        "colab": {
          "base_uri": "https://localhost:8080/"
        },
        "id": "bjeUAr5Ki515",
        "outputId": "b5306e59-1d96-4f1d-f3a2-db93ce4d5bbd"
      },
      "source": [
        "# P1101\n",
        "ts3 = 'Dismal' # Please input your English name\n",
        "!python --version #  Python 版本確認"
      ],
      "execution_count": 1,
      "outputs": [
        {
          "output_type": "stream",
          "name": "stdout",
          "text": [
            "Python 3.7.12\n"
          ]
        }
      ]
    },
    {
      "cell_type": "markdown",
      "metadata": {
        "id": "a_Q1KumBj8GB"
      },
      "source": [
        "### 模組(Module)??\n",
        "> 模組(Module)就是一個檔案，包含了相關性較高的程式碼。隨著應用程式的開發規模越來越大，我們不可能把所有的程式碼都寫在同一份Python檔案中，一定會將關聯性較高的程式碼抽出來放在不同的檔案中來形成模組(Module)，主程式再透過引用的方式來使用。所以模組(Module)可以提高程式碼的重用性(Reusable)且易於維護。"
      ]
    },
    {
      "cell_type": "code",
      "metadata": {
        "colab": {
          "base_uri": "https://localhost:8080/"
        },
        "id": "S2ArIenPjPwx",
        "outputId": "45d5f4b9-c22c-42eb-be2c-952e12b3c22c"
      },
      "source": [
        "# P1102 載入Python calendar模組, 輸出月曆\n",
        "import calendar\n",
        "print(calendar.calendar(2021))"
      ],
      "execution_count": 2,
      "outputs": [
        {
          "output_type": "stream",
          "name": "stdout",
          "text": [
            "                                  2021\n",
            "\n",
            "      January                   February                   March\n",
            "Mo Tu We Th Fr Sa Su      Mo Tu We Th Fr Sa Su      Mo Tu We Th Fr Sa Su\n",
            "             1  2  3       1  2  3  4  5  6  7       1  2  3  4  5  6  7\n",
            " 4  5  6  7  8  9 10       8  9 10 11 12 13 14       8  9 10 11 12 13 14\n",
            "11 12 13 14 15 16 17      15 16 17 18 19 20 21      15 16 17 18 19 20 21\n",
            "18 19 20 21 22 23 24      22 23 24 25 26 27 28      22 23 24 25 26 27 28\n",
            "25 26 27 28 29 30 31                                29 30 31\n",
            "\n",
            "       April                      May                       June\n",
            "Mo Tu We Th Fr Sa Su      Mo Tu We Th Fr Sa Su      Mo Tu We Th Fr Sa Su\n",
            "          1  2  3  4                      1  2          1  2  3  4  5  6\n",
            " 5  6  7  8  9 10 11       3  4  5  6  7  8  9       7  8  9 10 11 12 13\n",
            "12 13 14 15 16 17 18      10 11 12 13 14 15 16      14 15 16 17 18 19 20\n",
            "19 20 21 22 23 24 25      17 18 19 20 21 22 23      21 22 23 24 25 26 27\n",
            "26 27 28 29 30            24 25 26 27 28 29 30      28 29 30\n",
            "                          31\n",
            "\n",
            "        July                     August                  September\n",
            "Mo Tu We Th Fr Sa Su      Mo Tu We Th Fr Sa Su      Mo Tu We Th Fr Sa Su\n",
            "          1  2  3  4                         1             1  2  3  4  5\n",
            " 5  6  7  8  9 10 11       2  3  4  5  6  7  8       6  7  8  9 10 11 12\n",
            "12 13 14 15 16 17 18       9 10 11 12 13 14 15      13 14 15 16 17 18 19\n",
            "19 20 21 22 23 24 25      16 17 18 19 20 21 22      20 21 22 23 24 25 26\n",
            "26 27 28 29 30 31         23 24 25 26 27 28 29      27 28 29 30\n",
            "                          30 31\n",
            "\n",
            "      October                   November                  December\n",
            "Mo Tu We Th Fr Sa Su      Mo Tu We Th Fr Sa Su      Mo Tu We Th Fr Sa Su\n",
            "             1  2  3       1  2  3  4  5  6  7             1  2  3  4  5\n",
            " 4  5  6  7  8  9 10       8  9 10 11 12 13 14       6  7  8  9 10 11 12\n",
            "11 12 13 14 15 16 17      15 16 17 18 19 20 21      13 14 15 16 17 18 19\n",
            "18 19 20 21 22 23 24      22 23 24 25 26 27 28      20 21 22 23 24 25 26\n",
            "25 26 27 28 29 30 31      29 30                     27 28 29 30 31\n",
            "\n"
          ]
        }
      ]
    },
    {
      "cell_type": "code",
      "metadata": {
        "colab": {
          "base_uri": "https://localhost:8080/"
        },
        "id": "CDH1xi55jRhJ",
        "outputId": "97da1a5f-55fa-473b-a981-d626114dd157"
      },
      "source": [
        "print(calendar.calendar(2022))"
      ],
      "execution_count": 3,
      "outputs": [
        {
          "output_type": "stream",
          "name": "stdout",
          "text": [
            "                                  2022\n",
            "\n",
            "      January                   February                   March\n",
            "Mo Tu We Th Fr Sa Su      Mo Tu We Th Fr Sa Su      Mo Tu We Th Fr Sa Su\n",
            "                1  2          1  2  3  4  5  6          1  2  3  4  5  6\n",
            " 3  4  5  6  7  8  9       7  8  9 10 11 12 13       7  8  9 10 11 12 13\n",
            "10 11 12 13 14 15 16      14 15 16 17 18 19 20      14 15 16 17 18 19 20\n",
            "17 18 19 20 21 22 23      21 22 23 24 25 26 27      21 22 23 24 25 26 27\n",
            "24 25 26 27 28 29 30      28                        28 29 30 31\n",
            "31\n",
            "\n",
            "       April                      May                       June\n",
            "Mo Tu We Th Fr Sa Su      Mo Tu We Th Fr Sa Su      Mo Tu We Th Fr Sa Su\n",
            "             1  2  3                         1             1  2  3  4  5\n",
            " 4  5  6  7  8  9 10       2  3  4  5  6  7  8       6  7  8  9 10 11 12\n",
            "11 12 13 14 15 16 17       9 10 11 12 13 14 15      13 14 15 16 17 18 19\n",
            "18 19 20 21 22 23 24      16 17 18 19 20 21 22      20 21 22 23 24 25 26\n",
            "25 26 27 28 29 30         23 24 25 26 27 28 29      27 28 29 30\n",
            "                          30 31\n",
            "\n",
            "        July                     August                  September\n",
            "Mo Tu We Th Fr Sa Su      Mo Tu We Th Fr Sa Su      Mo Tu We Th Fr Sa Su\n",
            "             1  2  3       1  2  3  4  5  6  7                1  2  3  4\n",
            " 4  5  6  7  8  9 10       8  9 10 11 12 13 14       5  6  7  8  9 10 11\n",
            "11 12 13 14 15 16 17      15 16 17 18 19 20 21      12 13 14 15 16 17 18\n",
            "18 19 20 21 22 23 24      22 23 24 25 26 27 28      19 20 21 22 23 24 25\n",
            "25 26 27 28 29 30 31      29 30 31                  26 27 28 29 30\n",
            "\n",
            "      October                   November                  December\n",
            "Mo Tu We Th Fr Sa Su      Mo Tu We Th Fr Sa Su      Mo Tu We Th Fr Sa Su\n",
            "                1  2          1  2  3  4  5  6                1  2  3  4\n",
            " 3  4  5  6  7  8  9       7  8  9 10 11 12 13       5  6  7  8  9 10 11\n",
            "10 11 12 13 14 15 16      14 15 16 17 18 19 20      12 13 14 15 16 17 18\n",
            "17 18 19 20 21 22 23      21 22 23 24 25 26 27      19 20 21 22 23 24 25\n",
            "24 25 26 27 28 29 30      28 29 30                  26 27 28 29 30 31\n",
            "31\n",
            "\n"
          ]
        }
      ]
    },
    {
      "cell_type": "code",
      "metadata": {
        "colab": {
          "base_uri": "https://localhost:8080/"
        },
        "id": "X5Th0J_5jUdy",
        "outputId": "a81bd421-b50b-4a05-d529-28b9e8d6f9cc"
      },
      "source": [
        "# P1103\n",
        "from math import pi\n",
        "print(pi)\n",
        "print('pi= ', pi)\n",
        "print('pi= %.6f' % pi)\n",
        "print('pi= %.3f' % pi)\n",
        "print('pi= %.2f' % pi)\n",
        "print('pi= %d' % pi)"
      ],
      "execution_count": 4,
      "outputs": [
        {
          "output_type": "stream",
          "name": "stdout",
          "text": [
            "3.141592653589793\n",
            "pi=  3.141592653589793\n",
            "pi= 3.141593\n",
            "pi= 3.142\n",
            "pi= 3.14\n",
            "pi= 3\n"
          ]
        }
      ]
    },
    {
      "cell_type": "code",
      "metadata": {
        "colab": {
          "base_uri": "https://localhost:8080/"
        },
        "id": "KxBP90RSjWxx",
        "outputId": "4e6a1402-25fa-4043-8734-750ec88ee2ce"
      },
      "source": [
        "# P1104\n",
        "print('學Python真是太酷了!!') #print顯示的內容必須是字串或是變數"
      ],
      "execution_count": 5,
      "outputs": [
        {
          "output_type": "stream",
          "name": "stdout",
          "text": [
            "學Python真是太酷了!!\n"
          ]
        }
      ]
    },
    {
      "cell_type": "markdown",
      "metadata": {
        "id": "KNg9Z8-xkBuh"
      },
      "source": [
        "###Basics of Python\n",
        "> Python 是一種高級的、動態類型的多範式編程語言。 Python 代碼通常被認為幾乎像偽代碼，因為它允許您用很少的代碼行表達非常強大的想法，同時又非常易讀。\n",
        "###常用運算符號\n",
        "+（加）、-（減）、*（乘）、/（除）、%（取餘數）\n",
        "####Numbers"
      ]
    },
    {
      "cell_type": "code",
      "metadata": {
        "colab": {
          "base_uri": "https://localhost:8080/"
        },
        "id": "wAsSzxWQjbuZ",
        "outputId": "2344c008-e022-4b71-bcc1-ca686abb5f89"
      },
      "source": [
        "# P1105\n",
        "x = 3\n",
        "print(x, x+x, x*x)\n"
      ],
      "execution_count": 6,
      "outputs": [
        {
          "output_type": "stream",
          "name": "stdout",
          "text": [
            "3 6 9\n"
          ]
        }
      ]
    },
    {
      "cell_type": "code",
      "metadata": {
        "colab": {
          "base_uri": "https://localhost:8080/"
        },
        "id": "xJcXar5SjfXx",
        "outputId": "5f63349a-c431-4577-b21d-9790fe0db8c0"
      },
      "source": [
        "# P1106\n",
        "print(x + 1)   # 加法,Addition\n",
        "print(x - 1)   # 減法,Subtraction\n",
        "print(x * 2)   # 乘法,Multiplication\n",
        "print(x ** 2)  # 指數,Exponentiation (3*3=9)"
      ],
      "execution_count": 7,
      "outputs": [
        {
          "output_type": "stream",
          "name": "stdout",
          "text": [
            "4\n",
            "2\n",
            "6\n",
            "9\n"
          ]
        }
      ]
    },
    {
      "cell_type": "code",
      "metadata": {
        "colab": {
          "base_uri": "https://localhost:8080/"
        },
        "id": "jrCzmXQgjiKB",
        "outputId": "ca80e513-7c0d-4aae-c71e-8558ef0c9867"
      },
      "source": [
        "# P1107\n",
        "print(x % 2)   # 取餘數, 3%2=1, 5%3=2\n",
        "print(x/2)     # 除法\n",
        "print(x//2)     # 整數除法\n",
        "print(x//4)"
      ],
      "execution_count": 8,
      "outputs": [
        {
          "output_type": "stream",
          "name": "stdout",
          "text": [
            "1\n",
            "1.5\n",
            "1\n",
            "0\n"
          ]
        }
      ]
    },
    {
      "cell_type": "code",
      "metadata": {
        "colab": {
          "base_uri": "https://localhost:8080/"
        },
        "id": "o1-NqKRTjlLh",
        "outputId": "5cea2e3f-096e-4642-a928-f56df6f2fa31"
      },
      "source": [
        "### 實作1110\n",
        "x = 2\n",
        "y = x + 5\n",
        "z = x * y\n",
        "a = x - 3\n",
        "b = 2**10\n",
        "print(x, y, z, a, b)\n",
        "print('x=%d, y=%d, z=%d, a=%d, b=%d' % (x, y, z, a, b))"
      ],
      "execution_count": 9,
      "outputs": [
        {
          "output_type": "stream",
          "name": "stdout",
          "text": [
            "2 7 14 -1 1024\n",
            "x=2, y=7, z=14, a=-1, b=1024\n"
          ]
        }
      ]
    },
    {
      "cell_type": "code",
      "metadata": {
        "colab": {
          "base_uri": "https://localhost:8080/"
        },
        "id": "MxTlwcs-jnWh",
        "outputId": "f3ea3f84-ffed-42f6-bbf5-57e3fc818e9a"
      },
      "source": [
        "# P1108\n",
        "x = 2\n",
        "x += 1 # x = x + 1\n",
        "print(x)\n",
        "x *= 2 # x = x * 2 (i.e., x = 3*2 = 6)\n",
        "print(x)"
      ],
      "execution_count": 10,
      "outputs": [
        {
          "output_type": "stream",
          "name": "stdout",
          "text": [
            "3\n",
            "6\n"
          ]
        }
      ]
    },
    {
      "cell_type": "code",
      "metadata": {
        "colab": {
          "base_uri": "https://localhost:8080/"
        },
        "id": "vBK5D3J3jozh",
        "outputId": "3b0072f2-c421-4829-8f9e-d2b59de4bee8"
      },
      "source": [
        "### 實作1120\n",
        "x = 2\n",
        "x = x + 1 \n",
        "print('x=x+1, x=?', x)"
      ],
      "execution_count": 12,
      "outputs": [
        {
          "output_type": "stream",
          "name": "stdout",
          "text": [
            "x=x+1, x=? 3\n"
          ]
        }
      ]
    },
    {
      "cell_type": "code",
      "metadata": {
        "colab": {
          "base_uri": "https://localhost:8080/"
        },
        "id": "8ZV3RBJ8jq_h",
        "outputId": "a43aa69e-449b-4b0c-9d23-af195f39720c"
      },
      "source": [
        "### 實作1121\n",
        "\n",
        "x = 2\n",
        "x += 1 # x = x + 1\n",
        "print('x += 1, x=?', x)\n",
        "x *= 2 # x = x * 2 (i.e., x = 3*2 = 6)\n",
        "print('x *= 2, x=?', x)"
      ],
      "execution_count": 13,
      "outputs": [
        {
          "output_type": "stream",
          "name": "stdout",
          "text": [
            "x += 1, x=? 3\n",
            "x *= 2, x=? 6\n"
          ]
        }
      ]
    },
    {
      "cell_type": "markdown",
      "metadata": {
        "id": "ovU_uPRckI35"
      },
      "source": [
        "### python 的內建型態主要分為以下三種：\n",
        "1. 數值型態：整數 int, 浮點數 float, 布林 bool\n",
        "2. 字串型態：字串 str, 字元 chr\n",
        "3. 容器型態：串列 list[], 字典 dict{}, 序對 Tuple(), 集合 Set{}\n",
        "\n",
        "[重要] python變數:區分大小寫、不可以數字開頭!!"
      ]
    },
    {
      "cell_type": "code",
      "metadata": {
        "colab": {
          "base_uri": "https://localhost:8080/"
        },
        "id": "4TgHCeQ5kRlP",
        "outputId": "1de3a869-13b2-4a16-aca2-9d2e50a651aa"
      },
      "source": [
        "# P1110\n",
        "y = 2.5\n",
        "print(type(y)) # Show data type by \"type()\"\n",
        "print(y, y + 1, y * 2, y ** 2) # Easy calculation\n",
        "\n",
        "### 實作1130: check data type\n",
        "\n",
        "x = 2\n",
        "print('x=2, type=?', type(x))\n",
        "\n",
        "y = 2.5\n",
        "print('y=2.5 type=?', type(y))\n",
        "\n",
        "z = 'hello'\n",
        "print('z=hello, typ=?', type(z))"
      ],
      "execution_count": 15,
      "outputs": [
        {
          "output_type": "stream",
          "name": "stdout",
          "text": [
            "<class 'float'>\n",
            "2.5 3.5 5.0 6.25\n",
            "x=2, type=? <class 'int'>\n",
            "y=2.5 type=? <class 'float'>\n",
            "z=hello, typ=? <class 'str'>\n"
          ]
        }
      ]
    },
    {
      "cell_type": "markdown",
      "metadata": {
        "id": "5s3JTi-nkUw5"
      },
      "source": [
        "### 變數不能使用指令/關鍵字/數字開頭: Python的保留字有哪些? 直接問python吧!"
      ]
    },
    {
      "cell_type": "code",
      "metadata": {
        "colab": {
          "base_uri": "https://localhost:8080/"
        },
        "id": "AN-lSL8bkXOa",
        "outputId": "bebadaab-8ff3-439f-88bc-5707160f4c49"
      },
      "source": [
        "# P1112A\n",
        "import keyword\n",
        "print(keyword.kwlist,end='')\n",
        "\n",
        "# P1112B\n",
        "sand = 1\n",
        "print(sand)\n",
        "\n",
        "# P1113 常用輸入輸出\n",
        "id =\"A1234567\"\n",
        "name = input(\"請輸入姓名\") #可加註解\n",
        "print(\"Hello ~ \",id+name)\n"
      ],
      "execution_count": 16,
      "outputs": [
        {
          "output_type": "stream",
          "name": "stdout",
          "text": [
            "['False', 'None', 'True', 'and', 'as', 'assert', 'async', 'await', 'break', 'class', 'continue', 'def', 'del', 'elif', 'else', 'except', 'finally', 'for', 'from', 'global', 'if', 'import', 'in', 'is', 'lambda', 'nonlocal', 'not', 'or', 'pass', 'raise', 'return', 'try', 'while', 'with', 'yield']1\n",
            "請輸入姓名dismal\n",
            "Hello ~  A1234567dismal\n"
          ]
        }
      ]
    },
    {
      "cell_type": "markdown",
      "metadata": {
        "id": "zo1cBNGjku8J"
      },
      "source": [
        "### 重要: 縮進:迴圈類、函數、邏輯判斷等..使用 2 or 4 空格(tab)統一使用4\n",
        "比較運算符號 包括 <、<=、>、>=、==、!="
      ]
    },
    {
      "cell_type": "code",
      "metadata": {
        "colab": {
          "base_uri": "https://localhost:8080/"
        },
        "id": "UNN5TL25kwLx",
        "outputId": "a0a8c9d1-7f67-45d6-b2e0-c4c90d53529c"
      },
      "source": [
        "# P1114 if判斷很常用，條件成立才執行\n",
        "\n",
        "x = 7\n",
        "check = (x >= 5)\n",
        "print('check ?,', check)\n",
        "if check:\n",
        "  print(x,'> 5 \\n') #迴圈內指令前方要縮進\n",
        "  print(x,'> 5, %s\\n' % check) #迴圈內指令前方要縮進    \n",
        "\n",
        "#雙向if 條件成立~執行，不成立~就執行另一個\n",
        "if 0:  #在python世界裡 1不只是1，還具有 True、真、成立\n",
        "    print(True)\n",
        "else:\n",
        "    print(False) #0不只是0，還具有 False、偽、不成立\n"
      ],
      "execution_count": 19,
      "outputs": [
        {
          "output_type": "stream",
          "name": "stdout",
          "text": [
            "check ?, True\n",
            "7 > 5 \n",
            "\n",
            "7 > 5, True\n",
            "\n",
            "False\n"
          ]
        }
      ]
    },
    {
      "cell_type": "code",
      "metadata": {
        "colab": {
          "base_uri": "https://localhost:8080/"
        },
        "id": "_AA8ora7lP35",
        "outputId": "cc9fd63e-b94a-4140-9fce-a13b699b53b4"
      },
      "source": [
        "### 實作1135, 請修正以上的Bug\n",
        "\n",
        "x = 7\n",
        "check = (x >= 5)\n",
        "print('check ?,', check)\n",
        "if check:\n",
        "  print(x,\"> 5 \\n\") #迴圈內指令前方要縮進\n",
        "  print(x,'> 5, %s\\n' % check) #迴圈內指令前方要縮進 (Tab)   \n",
        "\n",
        "#雙向if 條件成立~執行，不成立~就執行另一個\n",
        "if 0:  #在python世界裡 1不只是1，還具有 True、真、成立\n",
        "    print(True)\n",
        "else:\n",
        "    print(False) #0不只是0，還具有 False、偽、不成立\n"
      ],
      "execution_count": 20,
      "outputs": [
        {
          "output_type": "stream",
          "name": "stdout",
          "text": [
            "check ?, True\n",
            "7 > 5 \n",
            "\n",
            "7 > 5, True\n",
            "\n",
            "False\n"
          ]
        }
      ]
    },
    {
      "cell_type": "code",
      "metadata": {
        "colab": {
          "base_uri": "https://localhost:8080/"
        },
        "id": "DWM28x16lTUp",
        "outputId": "152d927c-fa55-4c33-89b0-83c42f8d79ee"
      },
      "source": [
        "# P1114a\n",
        "a = 33\n",
        "b = 200\n",
        "if b > a:\n",
        "  print(\"b is greater than a\") # you will get an error\n",
        "\n",
        "a = 33\n",
        "b = 33\n",
        "if b > a:\n",
        "  print(\"b > a\")\n",
        "elif a == b:\n",
        "  print(\"a == b\")\n",
        "else:\n",
        "  print(\"a > b\")\n"
      ],
      "execution_count": 21,
      "outputs": [
        {
          "output_type": "stream",
          "name": "stdout",
          "text": [
            "b is greater than a\n",
            "a == b\n"
          ]
        }
      ]
    },
    {
      "cell_type": "markdown",
      "metadata": {
        "id": "wHj-x7BhlX1J"
      },
      "source": [
        "####布林邏輯\n",
        "Python implements all of the usual operators for Boolean logic, but uses English words rather than symbols (`&&`, `||`, etc.):"
      ]
    },
    {
      "cell_type": "code",
      "metadata": {
        "colab": {
          "base_uri": "https://localhost:8080/"
        },
        "id": "7iV8PqDRlV4h",
        "outputId": "e87f81fd-41b0-44c8-e21f-116a51e53be1"
      },
      "source": [
        "# P1115\n",
        "print(\"***** 布林邏輯 *****\")\n",
        "one = 1\n",
        "two = 2\n",
        "three = 3\n",
        "\n",
        "print('one > 0: ', one > 0)\n",
        "print('two > one:',two > one)\n",
        "print('three < one:', three < one)"
      ],
      "execution_count": 22,
      "outputs": [
        {
          "output_type": "stream",
          "name": "stdout",
          "text": [
            "***** 布林邏輯 *****\n",
            "one > 0:  True\n",
            "two > one: True\n",
            "three < one: False\n"
          ]
        }
      ]
    },
    {
      "cell_type": "code",
      "metadata": {
        "colab": {
          "base_uri": "https://localhost:8080/"
        },
        "id": "u-W9BJ7clcXZ",
        "outputId": "49db5ef5-67f2-478d-b7e1-f911b7092966"
      },
      "source": [
        "# P1116\n",
        "t = True\n",
        "f = False\n",
        "print(t and f) # Logical AND;\n",
        "print(t or f)  # Logical OR;\n",
        "print(not t)   # Logical NOT;\n",
        "print(t != f)  # Logical XOR;"
      ],
      "execution_count": 23,
      "outputs": [
        {
          "output_type": "stream",
          "name": "stdout",
          "text": [
            "False\n",
            "True\n",
            "False\n",
            "True\n"
          ]
        }
      ]
    },
    {
      "cell_type": "code",
      "metadata": {
        "colab": {
          "base_uri": "https://localhost:8080/"
        },
        "id": "8KBX4eZYleVR",
        "outputId": "54d8e5f0-784f-4a22-fd9b-63cf03baa0ce"
      },
      "source": [
        "### 實作1140\n",
        "ans1 = (two == three) # == = = + =\n",
        "ans2 = (two != three)\n",
        "ans3 = (two > three)\n",
        "ans4 = (two < three)\n",
        "\n",
        "print(\"ans1, ans2, ans3, ans4 =\", ans1, ans2, ans3, ans4, '\\n')\n",
        "print(\"ans1, ans2, ans3, ans4 =\", ans1, ans2, ans3, ans4)\n",
        "print(\"ans1 = %s, ans2 = %s, ans3 = %s, ans4 = %s\" % (ans1, ans2, ans3, ans4), '\\n')\n",
        "\n",
        "ans5 = ans2 and ans4\n",
        "print('ans2 and ans4 = ans5:', ans2, ans4, ans5)"
      ],
      "execution_count": 24,
      "outputs": [
        {
          "output_type": "stream",
          "name": "stdout",
          "text": [
            "ans1, ans2, ans3, ans4 = False True False True \n",
            "\n",
            "ans1, ans2, ans3, ans4 = False True False True\n",
            "ans1 = False, ans2 = True, ans3 = False, ans4 = True \n",
            "\n",
            "ans2 and ans4 = ans5: True True True\n"
          ]
        }
      ]
    },
    {
      "cell_type": "code",
      "metadata": {
        "colab": {
          "base_uri": "https://localhost:8080/"
        },
        "id": "iUbPxVXKlgkZ",
        "outputId": "10721412-1526-4543-9119-47ab7acd1b35"
      },
      "source": [
        "# P1117\n",
        "f = 3\n",
        "g = 3.0000 \n",
        "if f==g: #判斷要使用==\n",
        "    print(\"是的\")\n",
        "else:\n",
        "    print(\"才不是哩\")\n",
        "\n",
        "### 實作1145: 讓我們一起來除錯吧! (SyntaxError: invalid syntax)\n",
        "f = 3\n",
        "g = 3.0000 \n",
        "if f==g: #判斷要使用 == \n",
        "    print(\"是的\")\n",
        "else:\n",
        "    print(\"才不是哩\")"
      ],
      "execution_count": 26,
      "outputs": [
        {
          "output_type": "stream",
          "name": "stdout",
          "text": [
            "是的\n",
            "是的\n"
          ]
        }
      ]
    },
    {
      "cell_type": "markdown",
      "metadata": {
        "id": "16ss1JmUlkef"
      },
      "source": [
        "####字串(Strings)"
      ]
    },
    {
      "cell_type": "code",
      "metadata": {
        "colab": {
          "base_uri": "https://localhost:8080/"
        },
        "id": "iWXhAyf7ljx5",
        "outputId": "f8cf619e-c0ac-4a81-d3fb-1bf6c12c034e"
      },
      "source": [
        "# P1118\n",
        "hello = '**hello** '   # String literals can use single quotes\n",
        "world = \"++world++\"   # or double quotes; it does not matter\n",
        "print(hello, len(hello))\n",
        "print(world, len(world))\n",
        "\n",
        "hh = 'hello world'\n",
        "print('hello world', len(hh))\n"
      ],
      "execution_count": 27,
      "outputs": [
        {
          "output_type": "stream",
          "name": "stdout",
          "text": [
            "**hello**  10\n",
            "++world++ 9\n",
            "hello world 11\n"
          ]
        }
      ]
    },
    {
      "cell_type": "code",
      "metadata": {
        "colab": {
          "base_uri": "https://localhost:8080/"
        },
        "id": "ai18cSmrlp_o",
        "outputId": "c40ebbaf-ff78-4ef3-9ed5-0eeacf22a4f3"
      },
      "source": [
        "hw = hello + world  # 字符串連接 (String concatenation)\n",
        "print(hw)\n",
        "\n",
        "hw = hello + ' ' + world  # 字符串連接 (String concatenation)\n",
        "print(hw)\n",
        "\n",
        "print('%s %s' % (hello, world))"
      ],
      "execution_count": 28,
      "outputs": [
        {
          "output_type": "stream",
          "name": "stdout",
          "text": [
            "**hello** ++world++\n",
            "**hello**  ++world++\n",
            "**hello**  ++world++\n"
          ]
        }
      ]
    },
    {
      "cell_type": "code",
      "metadata": {
        "colab": {
          "base_uri": "https://localhost:8080/"
        },
        "id": "p-SGMO3wlrmw",
        "outputId": "6583c21e-e633-4c15-a41a-3025f79a6977"
      },
      "source": [
        "# P1120\n",
        "hw12 = '{} {} {}'.format(hello, world, 12)  # string formatting\n",
        "print(hw12)"
      ],
      "execution_count": 29,
      "outputs": [
        {
          "output_type": "stream",
          "name": "stdout",
          "text": [
            "**hello**  ++world++ 12\n"
          ]
        }
      ]
    },
    {
      "cell_type": "code",
      "metadata": {
        "colab": {
          "base_uri": "https://localhost:8080/",
          "height": 86
        },
        "id": "rW_mfbB4lsn4",
        "outputId": "ccbd8ea4-5cfd-4255-908b-217628827567"
      },
      "source": [
        "### 實作1150\n",
        "wh = world + ' ' + hello\n",
        "print(wh)\n",
        "\n",
        "hw12 = '{} {} {}'.format(hello, world, 12)  # string formatting\n",
        "\n",
        "print(hw12)\n",
        "\n",
        "hw13 =('%s %s %d' %(hello, world, 12))  # string formatting\n",
        "\n",
        "print(hw13)\n",
        "\n",
        "\"\"\"String objects have a bunch of useful methods; for example:\"\"\"\n"
      ],
      "execution_count": 30,
      "outputs": [
        {
          "output_type": "stream",
          "name": "stdout",
          "text": [
            "++world++ **hello** \n",
            "**hello**  ++world++ 12\n",
            "**hello**  ++world++ 12\n"
          ]
        },
        {
          "output_type": "execute_result",
          "data": {
            "application/vnd.google.colaboratory.intrinsic+json": {
              "type": "string"
            },
            "text/plain": [
              "'String objects have a bunch of useful methods; for example:'"
            ]
          },
          "metadata": {},
          "execution_count": 30
        }
      ]
    },
    {
      "cell_type": "code",
      "metadata": {
        "colab": {
          "base_uri": "https://localhost:8080/"
        },
        "id": "A6gIrl9nlvDh",
        "outputId": "703ced96-1368-425c-9200-34e29c73c444"
      },
      "source": [
        "# P1121\n",
        "s1 = 'hello'\n",
        "s2 = '  world '\n",
        "print(s1.capitalize())  # 將字符串大寫\n",
        "print(s1.upper())       # 將字符串全部轉換為大寫\n",
        "print(s1.replace('l', '*'))  # 用另一個替換一個子字符串\n",
        "print(len(s2), s2.strip(), len(s2.strip()))  # 去除前導和尾隨空格\n"
      ],
      "execution_count": 31,
      "outputs": [
        {
          "output_type": "stream",
          "name": "stdout",
          "text": [
            "Hello\n",
            "HELLO\n",
            "he**o\n",
            "8 world 5\n"
          ]
        }
      ]
    },
    {
      "cell_type": "code",
      "metadata": {
        "colab": {
          "base_uri": "https://localhost:8080/"
        },
        "id": "zubeBhHclzDw",
        "outputId": "44b00568-4fe0-4a61-b2dc-7e3e3b194133"
      },
      "source": [
        "### 實作1160\n",
        "s11 = 'good morning'\n",
        "s12 = '  WORLD aaa AAA'\n",
        "s13 = 'good#####moring'\n",
        "print(s11.capitalize())\n",
        "print(s11.upper())\n",
        "print(s12.replace(\"L\",'***'))\n",
        "print(s12.replace(\"RL\",'-----'))\n",
        "print(len(s12), s12.strip(), len(s12.strip())) \n",
        "print(s12.lower())\n",
        "print(s13, s13.replace('#####',' '))\n"
      ],
      "execution_count": 32,
      "outputs": [
        {
          "output_type": "stream",
          "name": "stdout",
          "text": [
            "Good morning\n",
            "GOOD MORNING\n",
            "  WOR***D aaa AAA\n",
            "  WO-----D aaa AAA\n",
            "15 WORLD aaa AAA 13\n",
            "  world aaa aaa\n",
            "good#####moring good moring\n"
          ]
        }
      ]
    },
    {
      "cell_type": "markdown",
      "metadata": {
        "id": "KMF7o6iel1Ln"
      },
      "source": [
        "###容器：Python常用內置容器類型：列表(list)、字典(dictionary)\n",
        "####Lists\n",
        "列表(List)是數組的 Python 等價物，但可以調整大小並且可以包含不同類型的元素："
      ]
    },
    {
      "cell_type": "code",
      "metadata": {
        "colab": {
          "base_uri": "https://localhost:8080/"
        },
        "id": "5dPpKN8rl16Q",
        "outputId": "3146b32a-9ffc-492b-bef6-bc5c09e1cad0"
      },
      "source": [
        "# P1122\n",
        "xs = [3, 2, 1]   # 創立一個List\n",
        "print(xs)\n",
        "print(xs[2])\n",
        "print(xs[0])\n",
        "print(xs[-1])     \n",
        "print(xs[-2])\n",
        "print(xs[-3])\n",
        "print(\"Size = ? Ans: \", len(xs))"
      ],
      "execution_count": 33,
      "outputs": [
        {
          "output_type": "stream",
          "name": "stdout",
          "text": [
            "[3, 2, 1]\n",
            "1\n",
            "3\n",
            "1\n",
            "2\n",
            "3\n",
            "Size = ? Ans:  3\n"
          ]
        }
      ]
    },
    {
      "cell_type": "code",
      "metadata": {
        "colab": {
          "base_uri": "https://localhost:8080/"
        },
        "id": "x9HHPdRgl4Fo",
        "outputId": "929eb5f4-34a3-4ddd-c295-3d0c811f6984"
      },
      "source": [
        "### 實作1171\n",
        "\n",
        "ss = [10, 20, 30, 40, 50, 'hello', 'world']\n",
        "print(ss)\n",
        "\n",
        "print(ss[0])\n",
        "print(ss[-1])\n",
        "print(ss[1])\n",
        "print(ss[4])\n",
        "\n",
        "print('Size =?, Ans:', len(ss))\n",
        "\n",
        "# for idx, animal in enumerate(animals):\n",
        "for box_number, box_content in enumerate(ss):\n",
        "  print(box_number, box_content)\n"
      ],
      "execution_count": 34,
      "outputs": [
        {
          "output_type": "stream",
          "name": "stdout",
          "text": [
            "[10, 20, 30, 40, 50, 'hello', 'world']\n",
            "10\n",
            "world\n",
            "20\n",
            "50\n",
            "Size =?, Ans: 7\n",
            "0 10\n",
            "1 20\n",
            "2 30\n",
            "3 40\n",
            "4 50\n",
            "5 hello\n",
            "6 world\n"
          ]
        }
      ]
    },
    {
      "cell_type": "code",
      "metadata": {
        "colab": {
          "base_uri": "https://localhost:8080/"
        },
        "id": "INLkLm6Ml6eJ",
        "outputId": "4ae7be39-2e89-4b2b-a95b-ff851263b9cb"
      },
      "source": [
        "# P1123\n",
        "xs = [10, 20, 30, 40, 50] \n",
        "xs[2] = 'cat'    # 列表可以包含不同類型的元素\n",
        "print(xs)"
      ],
      "execution_count": 35,
      "outputs": [
        {
          "output_type": "stream",
          "name": "stdout",
          "text": [
            "[10, 20, 'cat', 40, 50]\n"
          ]
        }
      ]
    },
    {
      "cell_type": "code",
      "metadata": {
        "colab": {
          "base_uri": "https://localhost:8080/"
        },
        "id": "xYRktZ2Gl8hJ",
        "outputId": "c0249b74-c661-427b-8c72-d7068cecf013"
      },
      "source": [
        "### 實作1172\n",
        "xs[2]='dog'\n",
        "print(xs)"
      ],
      "execution_count": 36,
      "outputs": [
        {
          "output_type": "stream",
          "name": "stdout",
          "text": [
            "[10, 20, 'dog', 40, 50]\n"
          ]
        }
      ]
    },
    {
      "cell_type": "code",
      "metadata": {
        "colab": {
          "base_uri": "https://localhost:8080/"
        },
        "id": "cdWXWhmOl91Y",
        "outputId": "017d0957-c610-49ae-89d8-2e181a93c5a5"
      },
      "source": [
        "# P1124\n",
        "xs.append('fish') # 在列表末尾添加一個新元素\n",
        "print(xs)  \n",
        "print(len(xs))\n"
      ],
      "execution_count": 37,
      "outputs": [
        {
          "output_type": "stream",
          "name": "stdout",
          "text": [
            "[10, 20, 'dog', 40, 50, 'fish']\n",
            "6\n"
          ]
        }
      ]
    },
    {
      "cell_type": "code",
      "metadata": {
        "colab": {
          "base_uri": "https://localhost:8080/"
        },
        "id": "JS1lwdDLl_KJ",
        "outputId": "0d2f6537-ed16-42cb-de43-18ea379ca857"
      },
      "source": [
        "### 實作1173\n",
        "\n",
        "xs.append('bird') # 在列表末尾添加一個新元素\n",
        "print(xs)  \n",
        "print(len(xs))"
      ],
      "execution_count": 38,
      "outputs": [
        {
          "output_type": "stream",
          "name": "stdout",
          "text": [
            "[10, 20, 'dog', 40, 50, 'fish', 'bird']\n",
            "7\n"
          ]
        }
      ]
    },
    {
      "cell_type": "code",
      "metadata": {
        "colab": {
          "base_uri": "https://localhost:8080/"
        },
        "id": "jJr8fxkcmBLJ",
        "outputId": "78d4dead-e8a9-4ffe-e57f-9d787a879d3c"
      },
      "source": [
        "# P1125\n",
        "x = xs.pop()     # 刪除並返回列表的最後一個元素\n",
        "print(x, xs)"
      ],
      "execution_count": 39,
      "outputs": [
        {
          "output_type": "stream",
          "name": "stdout",
          "text": [
            "bird [10, 20, 'dog', 40, 50, 'fish']\n"
          ]
        }
      ]
    },
    {
      "cell_type": "code",
      "metadata": {
        "colab": {
          "base_uri": "https://localhost:8080/"
        },
        "id": "-tIhy8lymCbR",
        "outputId": "236082d3-7c73-4d54-e272-5adb5897d7b6"
      },
      "source": [
        "### 實作1174\n",
        "x = xs.pop()     # 刪除並返回列表的最後一個元素\n",
        "print(x, xs)"
      ],
      "execution_count": 40,
      "outputs": [
        {
          "output_type": "stream",
          "name": "stdout",
          "text": [
            "fish [10, 20, 'dog', 40, 50]\n"
          ]
        }
      ]
    },
    {
      "cell_type": "markdown",
      "metadata": {
        "id": "vYAx2CQUmEA_"
      },
      "source": [
        "####Slicing: Python 還提供了簡潔的語法來訪問子列表； 這稱為切片："
      ]
    },
    {
      "cell_type": "code",
      "metadata": {
        "colab": {
          "base_uri": "https://localhost:8080/"
        },
        "id": "kiDPEKQxmEqx",
        "outputId": "1279d0c1-1002-4bf7-a8ac-d89ef2452f73"
      },
      "source": [
        "# P1126\n",
        "print(len('hello'))"
      ],
      "execution_count": 41,
      "outputs": [
        {
          "output_type": "stream",
          "name": "stdout",
          "text": [
            "5\n"
          ]
        }
      ]
    },
    {
      "cell_type": "code",
      "metadata": {
        "colab": {
          "base_uri": "https://localhost:8080/"
        },
        "id": "WVlWjAUtmF3Z",
        "outputId": "de68d945-cf11-4e94-ddc1-68d832a4f1c0"
      },
      "source": [
        "# P1127\n",
        "nums = 'hello'\n",
        "print(nums, len(nums))         \n",
        "print('nums[2:4] >>',nums[2:4])    \n",
        "print('nums[2:] >>',nums[2:])     \n",
        "print(nums[:2])     \n",
        "print(nums[:])      \n",
        "print('nums[:-1] >>', nums[:-1])    \n",
        "print(nums)"
      ],
      "execution_count": 42,
      "outputs": [
        {
          "output_type": "stream",
          "name": "stdout",
          "text": [
            "hello 5\n",
            "nums[2:4] >> ll\n",
            "nums[2:] >> llo\n",
            "he\n",
            "hello\n",
            "nums[:-1] >> hell\n",
            "hello\n"
          ]
        }
      ]
    },
    {
      "cell_type": "code",
      "metadata": {
        "colab": {
          "base_uri": "https://localhost:8080/"
        },
        "id": "Xw-8DGxAmISR",
        "outputId": "8bbbb1c7-b5e5-49d8-aea6-fc9cb06ef3f5"
      },
      "source": [
        "### 實作1175\n",
        "nums = 'world'\n",
        "print(nums, len(nums))       \n",
        "print(nums[2:4])    \n",
        "print(nums[2:])     \n",
        "print(nums[:2])     \n",
        "print(nums[:])      \n",
        "print('nums[:-1] >>', nums[:-1])    \n",
        "print(nums)"
      ],
      "execution_count": 43,
      "outputs": [
        {
          "output_type": "stream",
          "name": "stdout",
          "text": [
            "world 5\n",
            "rl\n",
            "rld\n",
            "wo\n",
            "world\n",
            "nums[:-1] >> worl\n",
            "world\n"
          ]
        }
      ]
    },
    {
      "cell_type": "code",
      "metadata": {
        "colab": {
          "base_uri": "https://localhost:8080/"
        },
        "id": "ArpbqhTRmLL5",
        "outputId": "3f84a736-9e15-4e96-8ad0-643607690a13"
      },
      "source": [
        "### 實作1175a\n",
        "x = [0, 1, 2, 3, 4, 5]\n",
        "print(x)\n",
        "print('x[:] >> ',x[:])\n",
        "\n",
        "print(x[:3])\n",
        "\n",
        "print('x[3:] >>', x[3:])\n",
        "\n",
        "for i in range(1,10,2):\n",
        "  print(i)"
      ],
      "execution_count": 44,
      "outputs": [
        {
          "output_type": "stream",
          "name": "stdout",
          "text": [
            "[0, 1, 2, 3, 4, 5]\n",
            "x[:] >>  [0, 1, 2, 3, 4, 5]\n",
            "[0, 1, 2]\n",
            "x[3:] >> [3, 4, 5]\n",
            "1\n",
            "3\n",
            "5\n",
            "7\n",
            "9\n"
          ]
        }
      ]
    },
    {
      "cell_type": "code",
      "metadata": {
        "colab": {
          "base_uri": "https://localhost:8080/"
        },
        "id": "G9NWTGh_mMzp",
        "outputId": "43b1562e-2b02-4e43-ad07-3d1fe3444e5b"
      },
      "source": [
        "### Final Result\n",
        "from datetime import datetime\n",
        "today = datetime.now()\n",
        "print('*** Done by %s at ' % ts3,today, type(today))"
      ],
      "execution_count": 45,
      "outputs": [
        {
          "output_type": "stream",
          "name": "stdout",
          "text": [
            "*** Done by Dismal at  2021-11-21 03:44:57.772541 <class 'datetime.datetime'>\n"
          ]
        }
      ]
    },
    {
      "cell_type": "code",
      "metadata": {
        "id": "7JUBp1L3n4v6"
      },
      "source": [
        ""
      ],
      "execution_count": null,
      "outputs": []
    }
  ]
}