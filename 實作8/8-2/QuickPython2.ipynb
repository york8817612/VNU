{
  "nbformat": 4,
  "nbformat_minor": 0,
  "metadata": {
    "colab": {
      "name": "QuickPython2.ipynb",
      "provenance": []
    },
    "kernelspec": {
      "name": "python3",
      "display_name": "Python 3"
    },
    "language_info": {
      "name": "python"
    }
  },
  "cells": [
    {
      "cell_type": "markdown",
      "metadata": {
        "id": "jwdTVmIRol2a"
      },
      "source": [
        "零基礎python快速入門\n",
        "#使用Google Colab的Python零基礎快速入門教程\n",
        "Prepared by Horace, Date: October, 2021\n",
        "* Colaboratory (簡稱為「Colab」) 可讓你在瀏覽器上撰寫及執行 Python. \n",
        "* Colab 筆記本的互動式環境，可讓你撰寫和執行程式碼\n",
        "## 介紹\n",
        "> Python 本身就是一種出色的通用編程語言，但在一些流行庫（例如: numpy、matplotlib）的幫助下，它成為了一個強大的科學計算環境。我們希望本節將作為Python 編程語言和人工智慧學習中的使用速成課程。\n",
        "## 在本教程中，我們將介紹：\n",
        "* Python必學: Basic data types (Containers, Lists, Dictionaries, Sets, Tuples), loops, flow control, Functions, Classes\n",
        "* 作圖模組 (Matplotlib): Plotting, Subplots, Images"
      ]
    },
    {
      "cell_type": "code",
      "metadata": {
        "colab": {
          "base_uri": "https://localhost:8080/"
        },
        "id": "gmjjiBuTops3",
        "outputId": "acdfc884-26c3-4f0e-ce6d-d59286ab9171"
      },
      "source": [
        "# P1101\n",
        "ts3 = 'Dismal' # Please input your English name\n",
        "!python --version #  Python 版本確認\n"
      ],
      "execution_count": 1,
      "outputs": [
        {
          "output_type": "stream",
          "name": "stdout",
          "text": [
            "Python 3.7.12\n"
          ]
        }
      ]
    },
    {
      "cell_type": "markdown",
      "metadata": {
        "id": "dZ0X_syRounh"
      },
      "source": [
        "###Python迴圈常見用法\n",
        "range(起始值,結束值,遞增(減)值)\n",
        "使用說明：\n",
        "range(20)：起始值預設從0開始，所以會產生0到19的整數序列。\n",
        "range(10,20)：起始值從10開始，所以會產生10到19的整數序列。\n",
        "range(10,20,3)：起始值從10開始，遞增值為3，所以會產生10,13,16,19的整數序列。\n",
        "You can loop over the elements of a list like this:"
      ]
    },
    {
      "cell_type": "code",
      "metadata": {
        "colab": {
          "base_uri": "https://localhost:8080/"
        },
        "id": "UY4fMR3qotH5",
        "outputId": "8a3b311c-73bf-4c5c-a3e9-d72fdb7e3b41"
      },
      "source": [
        "# P1129\n",
        "animals = ['cat', 'dog', 'monkey']\n",
        "for animal in animals:\n",
        "    print(animal)"
      ],
      "execution_count": 2,
      "outputs": [
        {
          "output_type": "stream",
          "name": "stdout",
          "text": [
            "cat\n",
            "dog\n",
            "monkey\n"
          ]
        }
      ]
    },
    {
      "cell_type": "markdown",
      "metadata": {
        "id": "QmEIShQZoxt5"
      },
      "source": [
        "If you want access to the index of each element within the body of a loop, use the built-in `enumerate` function:"
      ]
    },
    {
      "cell_type": "code",
      "metadata": {
        "colab": {
          "base_uri": "https://localhost:8080/"
        },
        "id": "5lcELdjPozSJ",
        "outputId": "d9959874-e987-4172-c98b-bc7e6e7e7924"
      },
      "source": [
        "# P1130\n",
        "# [Python] 使用 enumerate() 函式來同時輸出索引與元素\n",
        "# enumerate() 是 Python 當中經常會看到的函式，前者輸入一個可迭代的對象、比如說 List 資料型態；後者輸入開始的起點編號，為數字，若不設定時從 0 開始。\n",
        "animals = ['cat', 'dog', 'monkey']\n",
        "for idx, animal in enumerate(animals):\n",
        "    print('#%d: %s' % (idx, animal))\n"
      ],
      "execution_count": 3,
      "outputs": [
        {
          "output_type": "stream",
          "name": "stdout",
          "text": [
            "#0: cat\n",
            "#1: dog\n",
            "#2: monkey\n"
          ]
        }
      ]
    },
    {
      "cell_type": "code",
      "metadata": {
        "colab": {
          "base_uri": "https://localhost:8080/"
        },
        "id": "4l4xtTPfo1SJ",
        "outputId": "ae4f4d9a-c684-4f4e-8c52-259e48bc3cd9"
      },
      "source": [
        "# P1131A\n",
        "for idx, animal in enumerate(animals, start=1):\n",
        "    print('#%d: %s' % (idx, animal))\n",
        "\n",
        "for idx, animal in enumerate(animals):\n",
        "    print('#%d: %s' % (idx+1, animal))\n"
      ],
      "execution_count": 4,
      "outputs": [
        {
          "output_type": "stream",
          "name": "stdout",
          "text": [
            "#1: cat\n",
            "#2: dog\n",
            "#3: monkey\n",
            "#1: cat\n",
            "#2: dog\n",
            "#3: monkey\n"
          ]
        }
      ]
    },
    {
      "cell_type": "code",
      "metadata": {
        "colab": {
          "base_uri": "https://localhost:8080/"
        },
        "id": "C9PgEPtvo4c5",
        "outputId": "0a34134b-8fb4-48e0-f72f-c0cdb63265e7"
      },
      "source": [
        "# P1131B\n",
        "# range語法架構：range(start, stop[, step])\n",
        "\n",
        "for i in range(1,10,1):\n",
        "  print(i,'*'*i)\n",
        "\n",
        "for i in range(1,10):\n",
        "  print(i,'+'*i)"
      ],
      "execution_count": 5,
      "outputs": [
        {
          "output_type": "stream",
          "name": "stdout",
          "text": [
            "1 *\n",
            "2 **\n",
            "3 ***\n",
            "4 ****\n",
            "5 *****\n",
            "6 ******\n",
            "7 *******\n",
            "8 ********\n",
            "9 *********\n",
            "1 +\n",
            "2 ++\n",
            "3 +++\n",
            "4 ++++\n",
            "5 +++++\n",
            "6 ++++++\n",
            "7 +++++++\n",
            "8 ++++++++\n",
            "9 +++++++++\n"
          ]
        }
      ]
    },
    {
      "cell_type": "code",
      "metadata": {
        "colab": {
          "base_uri": "https://localhost:8080/"
        },
        "id": "1lEeiTqwo6FR",
        "outputId": "c13fa597-c6f2-4f52-9d25-e0ffe0fbe9bd"
      },
      "source": [
        "# P1131C\n",
        "for i in range(9,0,-1):\n",
        "  print(i,'*'*i)"
      ],
      "execution_count": 6,
      "outputs": [
        {
          "output_type": "stream",
          "name": "stdout",
          "text": [
            "9 *********\n",
            "8 ********\n",
            "7 *******\n",
            "6 ******\n",
            "5 *****\n",
            "4 ****\n",
            "3 ***\n",
            "2 **\n",
            "1 *\n"
          ]
        }
      ]
    },
    {
      "cell_type": "code",
      "metadata": {
        "colab": {
          "base_uri": "https://localhost:8080/"
        },
        "id": "RX3IPdPWo7kB",
        "outputId": "8b246e79-0dfd-4575-e211-29d2eee49225"
      },
      "source": [
        "# P1131D, Python Nested Loops(巢狀迴圈), 簡單來說，就是迴圈中又有一層迴圈\n",
        "# 我們來看一個範例: 5X5乘法表\n",
        "for i in range(1,6,1):\n",
        "  for j in range(1,6,1):\n",
        "    print('%dX%d=%2d, ' % (i, j, i*j), end=\"\")\n",
        "  print('\\n')"
      ],
      "execution_count": 7,
      "outputs": [
        {
          "output_type": "stream",
          "name": "stdout",
          "text": [
            "1X1= 1, 1X2= 2, 1X3= 3, 1X4= 4, 1X5= 5, \n",
            "\n",
            "2X1= 2, 2X2= 4, 2X3= 6, 2X4= 8, 2X5=10, \n",
            "\n",
            "3X1= 3, 3X2= 6, 3X3= 9, 3X4=12, 3X5=15, \n",
            "\n",
            "4X1= 4, 4X2= 8, 4X3=12, 4X4=16, 4X5=20, \n",
            "\n",
            "5X1= 5, 5X2=10, 5X3=15, 5X4=20, 5X5=25, \n",
            "\n"
          ]
        }
      ]
    },
    {
      "cell_type": "code",
      "metadata": {
        "colab": {
          "base_uri": "https://localhost:8080/"
        },
        "id": "I1nJ2elJo-pJ",
        "outputId": "b5100420-79bd-4f6f-c5bf-fb6db34e7e63"
      },
      "source": [
        "### 實作1175, 參考上面的程式, 印出9X9乘法表\n",
        "for i in range(1,10,1):\n",
        "  for j in range(1,10,1):\n",
        "    print('%dX%d=%2d, ' % (j, i, i*j), end=\"\")\n",
        "  print('\\n')"
      ],
      "execution_count": 9,
      "outputs": [
        {
          "output_type": "stream",
          "name": "stdout",
          "text": [
            "1X1= 1, 2X1= 2, 3X1= 3, 4X1= 4, 5X1= 5, 6X1= 6, 7X1= 7, 8X1= 8, 9X1= 9, \n",
            "\n",
            "1X2= 2, 2X2= 4, 3X2= 6, 4X2= 8, 5X2=10, 6X2=12, 7X2=14, 8X2=16, 9X2=18, \n",
            "\n",
            "1X3= 3, 2X3= 6, 3X3= 9, 4X3=12, 5X3=15, 6X3=18, 7X3=21, 8X3=24, 9X3=27, \n",
            "\n",
            "1X4= 4, 2X4= 8, 3X4=12, 4X4=16, 5X4=20, 6X4=24, 7X4=28, 8X4=32, 9X4=36, \n",
            "\n",
            "1X5= 5, 2X5=10, 3X5=15, 4X5=20, 5X5=25, 6X5=30, 7X5=35, 8X5=40, 9X5=45, \n",
            "\n",
            "1X6= 6, 2X6=12, 3X6=18, 4X6=24, 5X6=30, 6X6=36, 7X6=42, 8X6=48, 9X6=54, \n",
            "\n",
            "1X7= 7, 2X7=14, 3X7=21, 4X7=28, 5X7=35, 6X7=42, 7X7=49, 8X7=56, 9X7=63, \n",
            "\n",
            "1X8= 8, 2X8=16, 3X8=24, 4X8=32, 5X8=40, 6X8=48, 7X8=56, 8X8=64, 9X8=72, \n",
            "\n",
            "1X9= 9, 2X9=18, 3X9=27, 4X9=36, 5X9=45, 6X9=54, 7X9=63, 8X9=72, 9X9=81, \n",
            "\n"
          ]
        }
      ]
    },
    {
      "cell_type": "markdown",
      "metadata": {
        "id": "lDOX-jzypO8h"
      },
      "source": [
        "在編程時，我們經常希望將一種類型的數據轉換為另一種類型的數據。 作為一個簡單的例子，考慮以下計算平方數的代碼："
      ]
    },
    {
      "cell_type": "code",
      "metadata": {
        "colab": {
          "base_uri": "https://localhost:8080/"
        },
        "id": "OLbK4c_8o_SQ",
        "outputId": "82b3dded-d892-437b-db2b-409a3c3f4b1a"
      },
      "source": [
        "# P1132A\n",
        "nums = [0, 1, 2, 3, 4]\n",
        "squares = []\n",
        "for x in nums:\n",
        "    squares.append(x ** 2)\n",
        "print(nums, '>> ', squares)"
      ],
      "execution_count": 10,
      "outputs": [
        {
          "output_type": "stream",
          "name": "stdout",
          "text": [
            "[0, 1, 2, 3, 4] >>  [0, 1, 4, 9, 16]\n"
          ]
        }
      ]
    },
    {
      "cell_type": "markdown",
      "metadata": {
        "id": "fr1xQStupSIh"
      },
      "source": [
        "您可以使用列表理解使此代碼更簡單 (list comprehension:)"
      ]
    },
    {
      "cell_type": "code",
      "metadata": {
        "colab": {
          "base_uri": "https://localhost:8080/"
        },
        "id": "KWjQjhXRpS1Z",
        "outputId": "28c7a3f3-eed1-4ee5-f935-31469ed3f03a"
      },
      "source": [
        "# P1132B\n",
        "nums = [0, 1, 2, 3, 4]\n",
        "squares = [x ** 2 for x in nums]\n",
        "print(squares)\n"
      ],
      "execution_count": 11,
      "outputs": [
        {
          "output_type": "stream",
          "name": "stdout",
          "text": [
            "[0, 1, 4, 9, 16]\n"
          ]
        }
      ]
    },
    {
      "cell_type": "markdown",
      "metadata": {
        "id": "J3Qo552xpUEh"
      },
      "source": [
        "List comprehensions can also contain conditions:"
      ]
    },
    {
      "cell_type": "code",
      "metadata": {
        "colab": {
          "base_uri": "https://localhost:8080/"
        },
        "id": "7fAuScL7pWUp",
        "outputId": "ec25738a-5f79-403c-f240-c1c150b61052"
      },
      "source": [
        "# P1132C\n",
        "nums = [0, 1, 2, 3, 4]\n",
        "even_squares = [x ** 2 for x in nums if x % 2 == 0]\n",
        "print(even_squares)"
      ],
      "execution_count": 12,
      "outputs": [
        {
          "output_type": "stream",
          "name": "stdout",
          "text": [
            "[0, 4, 16]\n"
          ]
        }
      ]
    },
    {
      "cell_type": "code",
      "metadata": {
        "colab": {
          "base_uri": "https://localhost:8080/"
        },
        "id": "4FZIGwwbpYxR",
        "outputId": "bb5b62b5-8a0b-4e90-bd46-cbd12db44fdd"
      },
      "source": [
        "# P1133A, Python While-Loops敘述: Python迴圈的另一種型式，與for-loop不一樣的地方是，while-loop是依據條件來重複執行運算\n",
        "\n",
        "aa = 0\n",
        "\n",
        "while aa < 10:\n",
        "  print('aa=%d, aa+2=%d, aa*2=%d, aa-2=%d' % (aa, aa+2, aa*2, aa-2))\n",
        "  aa+=1 # a=a+1\n",
        "\n",
        "print('Done!')"
      ],
      "execution_count": 13,
      "outputs": [
        {
          "output_type": "stream",
          "name": "stdout",
          "text": [
            "aa=0, aa+2=2, aa*2=0, aa-2=-2\n",
            "aa=1, aa+2=3, aa*2=2, aa-2=-1\n",
            "aa=2, aa+2=4, aa*2=4, aa-2=0\n",
            "aa=3, aa+2=5, aa*2=6, aa-2=1\n",
            "aa=4, aa+2=6, aa*2=8, aa-2=2\n",
            "aa=5, aa+2=7, aa*2=10, aa-2=3\n",
            "aa=6, aa+2=8, aa*2=12, aa-2=4\n",
            "aa=7, aa+2=9, aa*2=14, aa-2=5\n",
            "aa=8, aa+2=10, aa*2=16, aa-2=6\n",
            "aa=9, aa+2=11, aa*2=18, aa-2=7\n",
            "Done!\n"
          ]
        }
      ]
    },
    {
      "cell_type": "code",
      "metadata": {
        "colab": {
          "base_uri": "https://localhost:8080/"
        },
        "id": "LIPa_T8JpbL5",
        "outputId": "6f9878da-872b-4532-b82c-d2145e735e4c"
      },
      "source": [
        "# P1133B, break：直接中斷迴圈(e.g., while loop, for loop)，在break指令之後的運算皆不會執行\n",
        "\n",
        "aa = 0\n",
        "\n",
        "while aa < 10:\n",
        "  if aa>5:\n",
        "    print('*** %d > 5, so, bye-bye and exit the while loop!' % aa)\n",
        "    break\n",
        "\n",
        "  print('aa=%d, aa+2=%d, aa*2=%d, aa-2=%d' % (aa, aa+2, aa*2, aa-2))\n",
        "  aa+=1"
      ],
      "execution_count": 14,
      "outputs": [
        {
          "output_type": "stream",
          "name": "stdout",
          "text": [
            "aa=0, aa+2=2, aa*2=0, aa-2=-2\n",
            "aa=1, aa+2=3, aa*2=2, aa-2=-1\n",
            "aa=2, aa+2=4, aa*2=4, aa-2=0\n",
            "aa=3, aa+2=5, aa*2=6, aa-2=1\n",
            "aa=4, aa+2=6, aa*2=8, aa-2=2\n",
            "aa=5, aa+2=7, aa*2=10, aa-2=3\n",
            "*** 6 > 5, so, bye-bye and exit the while loop!\n"
          ]
        }
      ]
    },
    {
      "cell_type": "code",
      "metadata": {
        "colab": {
          "base_uri": "https://localhost:8080/"
        },
        "id": "WxW57s14pdCS",
        "outputId": "bb564241-6b2e-4ac8-f83f-f83b4313f76f"
      },
      "source": [
        "# P1133C, continue：同樣的在continue指令之後的運算不會執行，但是不會中斷迴圈，而是會繼續讀取下一個元素\n",
        "\n",
        "aa = 0\n",
        "\n",
        "while aa < 10:\n",
        "  if aa>5:\n",
        "    aa+=1 # for increase the number of aa\n",
        "    continue\n",
        "    print('*** %d > 5, so, bye-bye and exit the while loop!' % aa)\n",
        "    \n",
        "    \n",
        "  print('aa=%d, aa+2=%d, aa*2=%d, aa-2=%d' % (aa, aa+2, aa*2, aa-2))\n",
        "  aa+=1\n"
      ],
      "execution_count": 15,
      "outputs": [
        {
          "output_type": "stream",
          "name": "stdout",
          "text": [
            "aa=0, aa+2=2, aa*2=0, aa-2=-2\n",
            "aa=1, aa+2=3, aa*2=2, aa-2=-1\n",
            "aa=2, aa+2=4, aa*2=4, aa-2=0\n",
            "aa=3, aa+2=5, aa*2=6, aa-2=1\n",
            "aa=4, aa+2=6, aa*2=8, aa-2=2\n",
            "aa=5, aa+2=7, aa*2=10, aa-2=3\n"
          ]
        }
      ]
    },
    {
      "cell_type": "markdown",
      "metadata": {
        "id": "DhBur32ApgAR"
      },
      "source": [
        "####Dictionaries\n",
        "A dictionary stores (key, value) pairs, similar to a `Map` in Java or an object in Javascript. You can use it like this:"
      ]
    },
    {
      "cell_type": "code",
      "metadata": {
        "colab": {
          "base_uri": "https://localhost:8080/"
        },
        "id": "I6mLI-Sqph1B",
        "outputId": "6b8774b1-4017-47ed-c0b0-523c56e564bb"
      },
      "source": [
        "# P1135\n",
        "d = {'cat': 'cute', 'dog': 'furry', 'fish':'wet'}  # Create a new dictionary with some data\n",
        "print(d['cat'])       # Get an entry from a dictionary; prints \"cute\"\n",
        "print('cat' in d)     # Check if a dictionary has a given key; prints \"True\"\n"
      ],
      "execution_count": 16,
      "outputs": [
        {
          "output_type": "stream",
          "name": "stdout",
          "text": [
            "cute\n",
            "True\n"
          ]
        }
      ]
    },
    {
      "cell_type": "code",
      "metadata": {
        "colab": {
          "base_uri": "https://localhost:8080/"
        },
        "id": "kqCfiXJ3pmUx",
        "outputId": "c892a957-b5d7-40e8-eec6-bf7e20e40fba"
      },
      "source": [
        "# P1136\n",
        "d['fish'] = 'wet'    # Set an entry in a dictionary\n",
        "print(d['fish'])      # Prints \"wet\"\n"
      ],
      "execution_count": 17,
      "outputs": [
        {
          "output_type": "stream",
          "name": "stdout",
          "text": [
            "wet\n"
          ]
        }
      ]
    },
    {
      "cell_type": "markdown",
      "metadata": {
        "id": "2NtLK9qRpoFx"
      },
      "source": [
        "You can find all you need to know about dictionaries in the [documentation](https://docs.python.org/2/library/stdtypes.html#dict).\n",
        "It is easy to iterate over the keys in a dictionary:"
      ]
    },
    {
      "cell_type": "code",
      "metadata": {
        "colab": {
          "base_uri": "https://localhost:8080/"
        },
        "id": "dW9NAeQwpp0h",
        "outputId": "a86d1609-ccf5-48c1-b04b-139f9e5a448c"
      },
      "source": [
        "# P1137\n",
        "d = {'person': 2, 'cat': 4, 'spider': 8}\n",
        "for animal, legs in d.items():\n",
        "    print('Method 1: A {} has {} legs'.format(animal, legs))\n",
        "    print('Method 2: A %s has %d legs' % (animal, legs))\n",
        "    print(\"\\n\")"
      ],
      "execution_count": 18,
      "outputs": [
        {
          "output_type": "stream",
          "name": "stdout",
          "text": [
            "Method 1: A person has 2 legs\n",
            "Method 2: A person has 2 legs\n",
            "\n",
            "\n",
            "Method 1: A cat has 4 legs\n",
            "Method 2: A cat has 4 legs\n",
            "\n",
            "\n",
            "Method 1: A spider has 8 legs\n",
            "Method 2: A spider has 8 legs\n",
            "\n",
            "\n"
          ]
        }
      ]
    },
    {
      "cell_type": "markdown",
      "metadata": {
        "id": "QiwOiJDvpsLh"
      },
      "source": [
        "_Loops_: Iterating over a set has the same syntax as iterating over a list; however since sets are unordered, you cannot make assumptions about the order in which you visit the elements of the set:\n"
      ]
    },
    {
      "cell_type": "code",
      "metadata": {
        "colab": {
          "base_uri": "https://localhost:8080/"
        },
        "id": "tfJkgPELp4zZ",
        "outputId": "20048e0f-2e71-4474-9aba-978a66bfca4a"
      },
      "source": [
        "# P1138\n",
        "animals = {'cat', 'dog', 'fish'}\n",
        "for idx, animal in enumerate(animals):\n",
        "    print('#{}: {}'.format(idx + 1, animal))\n"
      ],
      "execution_count": 19,
      "outputs": [
        {
          "output_type": "stream",
          "name": "stdout",
          "text": [
            "#1: cat\n",
            "#2: dog\n",
            "#3: fish\n"
          ]
        }
      ]
    },
    {
      "cell_type": "markdown",
      "metadata": {
        "id": "jj9BuBQCp6jJ"
      },
      "source": [
        "Set comprehensions: Like lists and dictionaries, we can easily construct sets using set comprehensions:"
      ]
    },
    {
      "cell_type": "code",
      "metadata": {
        "colab": {
          "base_uri": "https://localhost:8080/"
        },
        "id": "S4quRQZHp8VJ",
        "outputId": "2db6fe98-eed1-458d-e793-4b0efb2b06ae"
      },
      "source": [
        "# P1139\n",
        "from math import sqrt\n",
        "print({int(sqrt(x)) for x in range(30)})\n",
        "print({sqrt(x) for x in range(30)})\n"
      ],
      "execution_count": 20,
      "outputs": [
        {
          "output_type": "stream",
          "name": "stdout",
          "text": [
            "{0, 1, 2, 3, 4, 5}\n",
            "{0.0, 1.0, 2.0, 1.7320508075688772, 1.4142135623730951, 2.23606797749979, 2.449489742783178, 2.6457513110645907, 2.8284271247461903, 3.0, 3.1622776601683795, 3.3166247903554, 3.4641016151377544, 4.0, 5.0, 4.47213595499958, 4.795831523312719, 4.898979485566356, 5.0990195135927845, 5.196152422706632, 5.291502622129181, 3.7416573867739413, 3.872983346207417, 4.123105625617661, 4.242640687119285, 4.358898943540674, 4.58257569495584, 4.69041575982343, 5.385164807134504, 3.605551275463989}\n"
          ]
        }
      ]
    },
    {
      "cell_type": "markdown",
      "metadata": {
        "id": "yUY_RtAyp-h5"
      },
      "source": [
        "###Functions\n",
        "Python functions are defined using the `def` keyword. For example:"
      ]
    },
    {
      "cell_type": "code",
      "metadata": {
        "colab": {
          "base_uri": "https://localhost:8080/"
        },
        "id": "hhoWTUfeqAIJ",
        "outputId": "c1a92419-1cea-48a1-ec8c-51bc37f4c5d4"
      },
      "source": [
        "# P1140\n",
        "def sign(x):\n",
        "    if x > 0:\n",
        "        return 'positive'\n",
        "    elif x < 0:\n",
        "        return 'negative'\n",
        "    else:\n",
        "        return 'zero'\n",
        "\n",
        "for x in [-1, 0, 1]:\n",
        "    print(sign(x))"
      ],
      "execution_count": 21,
      "outputs": [
        {
          "output_type": "stream",
          "name": "stdout",
          "text": [
            "negative\n",
            "zero\n",
            "positive\n"
          ]
        }
      ]
    },
    {
      "cell_type": "markdown",
      "metadata": {
        "id": "j0zbbd6tqC-R"
      },
      "source": [
        "We will often define functions to take optional keyword arguments, like this:"
      ]
    },
    {
      "cell_type": "code",
      "metadata": {
        "colab": {
          "base_uri": "https://localhost:8080/"
        },
        "id": "XyRuduEEqDoZ",
        "outputId": "662edcbe-3ca3-4b7d-e6c7-24bc7f6f9aed"
      },
      "source": [
        "# P1141\n",
        "def hello(name='Horace', loud=False):\n",
        "    if loud:\n",
        "        print('HELLO by True, %s' % name.upper())\n",
        "    else:\n",
        "        print('Hello by False, %s' % name)\n",
        "\n",
        "hello()\n",
        "hello('Bob')\n",
        "hello('Fred', loud=True)"
      ],
      "execution_count": 22,
      "outputs": [
        {
          "output_type": "stream",
          "name": "stdout",
          "text": [
            "Hello by False, Horace\n",
            "Hello by False, Bob\n",
            "HELLO by True, FRED\n"
          ]
        }
      ]
    },
    {
      "cell_type": "code",
      "metadata": {
        "colab": {
          "base_uri": "https://localhost:8080/"
        },
        "id": "F1q_2RRcqGYp",
        "outputId": "6aefd048-e3df-407a-db4a-dd508638366d"
      },
      "source": [
        "### 實作1181: 一起來debug!\n",
        "animals = ['cat', 'dog', 'fish', 'python','']\n",
        "for xx in animals:\n",
        "  hello(xx)"
      ],
      "execution_count": 24,
      "outputs": [
        {
          "output_type": "stream",
          "name": "stdout",
          "text": [
            "Hello by False, cat\n",
            "Hello by False, dog\n",
            "Hello by False, fish\n",
            "Hello by False, python\n",
            "Hello by False, \n"
          ]
        }
      ]
    },
    {
      "cell_type": "markdown",
      "metadata": {
        "id": "kHMrxFAZqLdp"
      },
      "source": [
        "#### [Python物件導向]淺談Python類別(Class)\n",
        "> 在學習程式語言時，或多或少都有聽過物件導向程式設計(Object-oriented programming，簡稱OOP)，它是一個具有物件(Object)概念的開發方式，能夠提高軟體的重用性、擴充性及維護性，在開發大型的應用程式時更是被廣為使用，所以在現今多數的程式語言都有此種開發方式，Python當然也不例外。而要使用物件導向程式設計就必須對類別(Class)及物件(Object)等有一些基本的了解; 簡單來說，就是物件(Object)的藍圖(blueprint)。就像要生產一部汽車時，都會有設計圖，藉此可以知道此類汽車會有哪些特性及功能，類別(Class)就類似設計圖，會定義未來產生物件(Object)時所擁有的屬性(Attribute)及方法(Method)\n",
        "The syntax for defining classes in Python is straightforward:"
      ]
    },
    {
      "cell_type": "code",
      "metadata": {
        "colab": {
          "base_uri": "https://localhost:8080/"
        },
        "id": "kOmdfa67qPUZ",
        "outputId": "4ec336d3-9cdb-472b-fc2c-f929ec2c6827"
      },
      "source": [
        "# P1142\n",
        "class Car:\n",
        "\n",
        "    # Constructor\n",
        "    def __init__(self, name):\n",
        "        self.name = name  # Create an instance variable\n",
        "\n",
        "    # Instance method\n",
        "    def greet(self, loud=False):\n",
        "        if loud:\n",
        "          print('HELLO, {}'.format(self.name.upper()))\n",
        "        else:\n",
        "          print('Hello, {}!'.format(self.name))\n",
        "\n",
        "g = Car('Toyota')  \n",
        "g.greet()        \n",
        "g.greet(loud=True)\n"
      ],
      "execution_count": 25,
      "outputs": [
        {
          "output_type": "stream",
          "name": "stdout",
          "text": [
            "Hello, Toyota!\n",
            "HELLO, TOYOTA\n"
          ]
        }
      ]
    },
    {
      "cell_type": "markdown",
      "metadata": {
        "id": "HLIek3kzqVhj"
      },
      "source": [
        "### 作圖模組：Matplotlib\n",
        "> Matplotlib 是一個繪圖庫。 本節簡單介紹一下`matplotlib.pyplot`模塊，它提供了一個類似於MATLAB的繪圖系統。\n",
        "> Matplotlib is a plotting library. In this section give a brief introduction to the `matplotlib.pyplot` module, which provides a plotting system similar to that of MATLAB."
      ]
    },
    {
      "cell_type": "code",
      "metadata": {
        "id": "Uc0TS7UQqRYa"
      },
      "source": [
        "# Commented out IPython magic to ensure Python compatibility.\n",
        "# P1143\n",
        "# 加載python模塊 (Load python module)\n",
        "import numpy as np\n",
        "import matplotlib.pyplot as plt\n",
        "\n",
        "# 通過運行這個特殊的%matplotlib iPython命令，我們將可顯示圖形\n",
        "# %matplotlib inline"
      ],
      "execution_count": 26,
      "outputs": []
    },
    {
      "cell_type": "markdown",
      "metadata": {
        "id": "a4iXj1eGqfV5"
      },
      "source": [
        "### 作圖 (Plotting):\n",
        "> matplotlib 中最重要的函數是 plot，它允許您繪製二維數據。 這是一個簡單的例子："
      ]
    },
    {
      "cell_type": "code",
      "metadata": {
        "colab": {
          "base_uri": "https://localhost:8080/",
          "height": 282
        },
        "id": "Y82S3BT-qgkR",
        "outputId": "e5323d02-cc64-4dac-f191-3c333d280a91"
      },
      "source": [
        "# P1144\n",
        "# Compute the x and y coordinates for points on a sine curve\n",
        "x = np.arange(0, 2 * np.pi, 0.01)\n",
        "y = np.sin(x)\n",
        "\n",
        "# Plot the points using matplotlib\n",
        "plt.plot(x, y)"
      ],
      "execution_count": 27,
      "outputs": [
        {
          "output_type": "execute_result",
          "data": {
            "text/plain": [
              "[<matplotlib.lines.Line2D at 0x7f34df053850>]"
            ]
          },
          "metadata": {},
          "execution_count": 27
        },
        {
          "output_type": "display_data",
          "data": {
            "image/png": "[encoded data removed]",
            "text/plain": [
              "<Figure size 432x288 with 1 Axes>"
            ]
          },
          "metadata": {
            "needs_background": "light"
          }
        }
      ]
    },
    {
      "cell_type": "markdown",
      "metadata": {
        "id": "VIFN-B10qi5K"
      },
      "source": [
        "只需一點額外的工作，我們就可以輕鬆地一次繪製多條線，並添加標題、圖例和軸標籤："
      ]
    },
    {
      "cell_type": "code",
      "metadata": {
        "colab": {
          "base_uri": "https://localhost:8080/",
          "height": 312
        },
        "id": "_Xc9cmoeqkqr",
        "outputId": "e6a170ce-ba74-4153-e22c-fec8e2113c2d"
      },
      "source": [
        "# P1145\n",
        "y_sin = np.sin(x)\n",
        "y_cos = np.cos(x)\n",
        "\n",
        "# 使用 matplotlib 繪製點\n",
        "plt.plot(x, y_sin)\n",
        "plt.plot(x, y_cos)\n",
        "plt.xlabel('x axis label')\n",
        "plt.ylabel('y axis label')\n",
        "plt.title('Sine and Cosine')\n",
        "plt.legend(['Sine', 'Cosine'])"
      ],
      "execution_count": 28,
      "outputs": [
        {
          "output_type": "execute_result",
          "data": {
            "text/plain": [
              "<matplotlib.legend.Legend at 0x7f34deb48b90>"
            ]
          },
          "metadata": {},
          "execution_count": 28
        },
        {
          "output_type": "display_data",
          "data": {
            "image/png": "[encoded data removed]",
            "text/plain": [
              "<Figure size 432x288 with 1 Axes>"
            ]
          },
          "metadata": {
            "needs_background": "light"
          }
        }
      ]
    },
    {
      "cell_type": "markdown",
      "metadata": {
        "id": "JsRkHKwvqnmJ"
      },
      "source": [
        "###Subplots: 您可以使用 subplot 函數在同一圖中繪製不同的內容。 下面是一個例子： "
      ]
    },
    {
      "cell_type": "code",
      "metadata": {
        "colab": {
          "base_uri": "https://localhost:8080/",
          "height": 467
        },
        "id": "kcpteSvkqplZ",
        "outputId": "ab7f0463-9b02-4823-f788-f53a13823e78"
      },
      "source": [
        "# P1146\n",
        "# 計算 x 和 y 坐標\n",
        "x = np.arange(0, 2 * np.pi, 0.01)\n",
        "y_sin = np.sin(x)\n",
        "y_cos = np.cos(x)\n",
        "plt.subplots_adjust( left=0.1, right=1.5, top=1.5, bottom=0.1, wspace=0.2, hspace=0.2)\n",
        "plt.subplot(211) # Laytout 2X1, plot #1\n",
        "plt.plot(x, y_sin, color = 'r') # red\n",
        "plt.title('sin-red')\n",
        "\n",
        "plt.subplot(212)\n",
        "plt.plot(x, y_cos, color = 'g') # green\n",
        "plt.title('cos-green')\n",
        "\n",
        "plt.show() # Show圖"
      ],
      "execution_count": 32,
      "outputs": [
        {
          "output_type": "display_data",
          "data": {
            "image/png": "[encoded data removed]",
            "text/plain": [
              "<Figure size 432x288 with 2 Axes>"
            ]
          },
          "metadata": {
            "needs_background": "light"
          }
        }
      ]
    },
    {
      "cell_type": "code",
      "metadata": {
        "colab": {
          "base_uri": "https://localhost:8080/",
          "height": 279
        },
        "id": "yNpKrQ2rqwjh",
        "outputId": "e943fab6-19a3-4224-9200-172b3768a87a"
      },
      "source": [
        "# P1147\n",
        "# 如何用 matplotlib 繪製一個圓？\n",
        "\n",
        "x1 = y_cos \n",
        "x2 = y_sin \n",
        "\n",
        "fig, ax = plt.subplots(1)\n",
        "\n",
        "ax.plot(x1, x2, color = 'r')\n",
        "ax.set_aspect(1)\n",
        "\n",
        "plt.xlim(-1.1,1.1)\n",
        "plt.ylim(-1.1,1.1)\n",
        "\n",
        "plt.grid(linestyle='--')\n",
        "plt.title('Plot a circle by Horace', fontsize=10)\n",
        "plt.savefig(\"plot_circle_matplotlib_01.png\", bbox_inches='tight')\n",
        "\n",
        "plt.show()"
      ],
      "execution_count": 30,
      "outputs": [
        {
          "output_type": "display_data",
          "data": {
            "image/png": "[encoded data removed]",
            "text/plain": [
              "<Figure size 432x288 with 1 Axes>"
            ]
          },
          "metadata": {
            "needs_background": "light"
          }
        }
      ]
    },
    {
      "cell_type": "code",
      "metadata": {
        "colab": {
          "base_uri": "https://localhost:8080/",
          "height": 467
        },
        "id": "EUUk1ZYCqy1C",
        "outputId": "8f1b406f-b79c-4f38-f007-c8a1483e9350"
      },
      "source": [
        "### 實作1185\n",
        "x = np.arange(0, 2 * np.pi, 0.01)\n",
        "y_sin = np.sin(x)\n",
        "y_cos = np.cos(x)\n",
        "\n",
        "y_sin2 = np.sin(x+np.pi)\n",
        "y_cos2 = np.cos(x+np.pi)\n",
        "\n",
        "plt.subplots_adjust( left=0.1, right=1.5, top=1.5, bottom=0.1, wspace=0.2, hspace=0.2)\n",
        "\n",
        "plt.subplot(221)\n",
        "plt.plot(x, y_sin, color ='r') # red\n",
        "plt.title('sin_red by Grace')\n",
        "\n",
        "plt.subplot(222)\n",
        "plt.plot(x, y_cos, color ='g') # green\n",
        "plt.title('cos_green by Grac')\n",
        "\n",
        "plt.subplot(223)\n",
        "plt.plot(x, y_sin2, color ='y') # yellow\n",
        "plt.title('sin_yellow by Grace')\n",
        "\n",
        "plt.subplot(224)\n",
        "plt.plot(x, y_cos2, color ='b') # blue\n",
        "plt.title('cos_blue by Grace')\n",
        "\n",
        "plt.show()"
      ],
      "execution_count": 33,
      "outputs": [
        {
          "output_type": "display_data",
          "data": {
            "image/png": "[encoded data removed]",
            "text/plain": [
              "<Figure size 432x288 with 4 Axes>"
            ]
          },
          "metadata": {
            "needs_background": "light"
          }
        }
      ]
    },
    {
      "cell_type": "code",
      "metadata": {
        "colab": {
          "base_uri": "https://localhost:8080/"
        },
        "id": "SQlXDlHTrHNJ",
        "outputId": "1d4c2c5f-5f8b-4f08-bf8c-10c813c5aab6"
      },
      "source": [
        "### Final Result\n",
        "from datetime import datetime\n",
        "today = datetime.now()\n",
        "print('*** Done by %s at ' % ts3,today, type(today))"
      ],
      "execution_count": 34,
      "outputs": [
        {
          "output_type": "stream",
          "name": "stdout",
          "text": [
            "*** Done by Dismal at  2021-11-21 04:06:29.403963 <class 'datetime.datetime'>\n"
          ]
        }
      ]
    }
  ]
}